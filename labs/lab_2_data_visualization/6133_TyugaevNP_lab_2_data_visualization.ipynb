{
 "cells": [
  {
   "cell_type": "markdown",
   "metadata": {},
   "source": [
    "# Pandas 6133 Тюгаев Никита Павлович"
   ]
  },
  {
   "cell_type": "markdown",
   "metadata": {},
   "source": [
    "#### 1. Считать в `pandas.DataFrame` любой источник данных: CSV, JSON, Excel-файл, HTML-таблицу и т.п."
   ]
  },
  {
   "cell_type": "code",
   "execution_count": null,
   "metadata": {},
   "outputs": [],
   "source": []
  },
  {
   "cell_type": "markdown",
   "metadata": {},
   "source": [
    "#### 2. Привести описание датасета."
   ]
  },
  {
   "cell_type": "markdown",
   "metadata": {},
   "source": [
    "##### features.csv\n",
    "\n",
    "| Column       | Description                                                                 |\n",
    "|--------------|-----------------------------------------------------------------------------|\n",
    "| Store        | Store number                                                                |\n",
    "| Date         | Week                                                                         |\n",
    "| Temperature  | Average temperature in the region                                            |\n",
    "| Fuel_Price   | Cost of fuel in the region                                                   |\n",
    "| MarkDown1    | Anonymized data related to promotional markdowns that Walmart is running.    |\n",
    "| MarkDown2    | Anonymized data related to promotional markdowns that Walmart is running.    |\n",
    "| MarkDown3    | Anonymized data related to promotional markdowns that Walmart is running.    |\n",
    "| MarkDown4    | Anonymized data related to promotional markdowns that Walmart is running.    |\n",
    "| MarkDown5    | Anonymized data related to promotional markdowns that Walmart is running.    |\n",
    "| CPI          | The consumer price index                                                     |\n",
    "| Unemployment | The unemployment rate                                                        |\n",
    "| IsHoliday    | Whether the week is a special holiday week                                   |\n",
    "\n",
    "##### stores.csv\n",
    "\n",
    "| Column | Description                                      |\n",
    "|--------|--------------------------------------------------|\n",
    "| Store  | Stores numbered from 1 to 45                     |\n",
    "| Type   | Store type has been provided, there are 3 types — A, B and C. |\n",
    "| Size   | Stores size has provided                         |\n",
    "\n",
    "##### test.csv\n",
    "\n",
    "| Column    | Description                              |\n",
    "|-----------|------------------------------------------|\n",
    "| Store     | The store number                          |\n",
    "| Dept      | The department number                     |\n",
    "| Date      | The week                                  |\n",
    "| IsHoliday | Whether the week is a special holiday week|\n",
    "\n",
    "##### train.csv\n",
    "\n",
    "| Column       | Description                                               |\n",
    "|--------------|-----------------------------------------------------------|\n",
    "| Store        | The store number                                          |\n",
    "| Dept         | The department number                                     |\n",
    "| Date         | The week                                                  |\n",
    "| Weekly_Sales | Sales for the given department in the given store         |\n",
    "| IsHoliday    | Whether the week is a special holiday week                |"
   ]
  },
  {
   "cell_type": "markdown",
   "metadata": {},
   "source": [
    "#### 3. `matplotlib`:  \n",
    "   - Построить несколько графиков разного вида с использованием `matplotlib`.  \n",
    "   - Построить несколько суб-графиков на одном графике используя `.subplot`.  \n",
    "   - Построить интерактивный график со слайдером.\n",
    "   \n",
    "   > - Графики должны быть разных видов.  \n",
    "   > - Хотя бы в одном графике необходимо подписать оси.  \n",
    "   > - Во всех графиках необходимо указать название.\n",
    "   > - Необязательно строить сложный и перегруженный информацией интерактивный график, достаточно одного-двух числовых признаков в разрезе другого признака, как минимум добавить слайдер (ползунок). Наличие других графических элементов управления (кнопки и т.п.) - опционально."
   ]
  },
  {
   "cell_type": "markdown",
   "metadata": {},
   "source": [
    "##### Построить несколько графиков разного вида с использованием `matplotlib`. "
   ]
  },
  {
   "cell_type": "code",
   "execution_count": null,
   "metadata": {},
   "outputs": [],
   "source": []
  },
  {
   "cell_type": "markdown",
   "metadata": {},
   "source": [
    "##### Построить несколько суб-графиков на одном графике используя `.subplot`. "
   ]
  },
  {
   "cell_type": "code",
   "execution_count": null,
   "metadata": {},
   "outputs": [],
   "source": []
  },
  {
   "cell_type": "markdown",
   "metadata": {},
   "source": [
    "##### Построить интерактивный график со слайдером."
   ]
  },
  {
   "cell_type": "code",
   "execution_count": null,
   "metadata": {},
   "outputs": [],
   "source": []
  },
  {
   "cell_type": "markdown",
   "metadata": {},
   "source": [
    "#### 4. `pandas`:  \n",
    "   - Построить три разных вида графиков с использованием `pandas.DataFrame.plot` / `Series.plot`.  \n",
    "   \n",
    "   > - Среди графиков должен присутствовать один `boxplot` (обязательно надо использовать параметр `by`, для исследования взаимосвязи числовой переменной и какой-либо другой).  \n",
    "   > - Графики должны быть построены как через методы `DataFrame`, так и через методы `Series`. То есть оба варианта нужно продемонстрировать. "
   ]
  },
  {
   "cell_type": "code",
   "execution_count": null,
   "metadata": {},
   "outputs": [],
   "source": []
  },
  {
   "cell_type": "markdown",
   "metadata": {},
   "source": [
    "#### 5. `seaborn`:  \n",
    "   - Построить `.pairplot` на каком-либо наборе данных, проанализировать взаимосвязь набора числовых признаков.  \n",
    "   - Построить `.jointplot`, проанализировать взаимосвязь двух конкретных числовых признаков.  \n",
    "   - Построить `.boxplot` и/или `.violinplot` на каком-либо наборе данных, проанализировать числовой признак в разрезе категориального.  \n",
    "   - Построить график `.heatmap` попарной корреляции всех числовых признаков.  \n",
    "   \n",
    "     > Категориальные признаки необходимо убрать из датафрейма перед построением. "
   ]
  },
  {
   "cell_type": "markdown",
   "metadata": {},
   "source": [
    "##### Построить `.pairplot` на каком-либо наборе данных, проанализировать взаимосвязь набора числовых признаков. "
   ]
  },
  {
   "cell_type": "code",
   "execution_count": null,
   "metadata": {},
   "outputs": [],
   "source": []
  },
  {
   "cell_type": "markdown",
   "metadata": {},
   "source": [
    "##### Построить `.jointplot`, проанализировать взаимосвязь двух конкретных числовых признаков. "
   ]
  },
  {
   "cell_type": "code",
   "execution_count": null,
   "metadata": {},
   "outputs": [],
   "source": []
  },
  {
   "cell_type": "markdown",
   "metadata": {},
   "source": [
    "##### Построить `.boxplot` и/или `.violinplot` на каком-либо наборе данных, проанализировать числовой признак в разрезе категориального. "
   ]
  },
  {
   "cell_type": "code",
   "execution_count": null,
   "metadata": {},
   "outputs": [],
   "source": []
  },
  {
   "cell_type": "markdown",
   "metadata": {},
   "source": [
    "##### Построить график `.heatmap` попарной корреляции всех числовых признаков. "
   ]
  },
  {
   "cell_type": "code",
   "execution_count": null,
   "metadata": {},
   "outputs": [],
   "source": []
  },
  {
   "cell_type": "markdown",
   "metadata": {},
   "source": [
    "#### 6. `scipy.stats`:  \n",
    "   - Построить QQ-график (и гистограмму) для одного из числовых признаков с целью проверки на соответствие его распределения нормальному распределению.  "
   ]
  },
  {
   "cell_type": "code",
   "execution_count": null,
   "metadata": {},
   "outputs": [],
   "source": []
  },
  {
   "cell_type": "markdown",
   "metadata": {},
   "source": [
    "#### 7. `plotly`:  \n",
    "   - Построить несколько графиков разного вида.  \n",
    "   - Построить несколько суб-графиков на одном графике.  \n",
    "   - Построить интерактивный график.  \n",
    "   \n",
    "     > Использование `Dash` опционально."
   ]
  },
  {
   "cell_type": "markdown",
   "metadata": {},
   "source": [
    "##### Построить несколько графиков разного вида."
   ]
  },
  {
   "cell_type": "code",
   "execution_count": null,
   "metadata": {},
   "outputs": [],
   "source": []
  },
  {
   "cell_type": "markdown",
   "metadata": {},
   "source": [
    "##### Построить несколько суб-графиков на одном графике. "
   ]
  },
  {
   "cell_type": "code",
   "execution_count": null,
   "metadata": {},
   "outputs": [],
   "source": []
  },
  {
   "cell_type": "markdown",
   "metadata": {},
   "source": [
    "##### Построить интерактивный график. "
   ]
  },
  {
   "cell_type": "code",
   "execution_count": null,
   "metadata": {},
   "outputs": [],
   "source": []
  }
 ],
 "metadata": {
  "kernelspec": {
   "display_name": "Python 3",
   "language": "python",
   "name": "python3"
  },
  "language_info": {
   "codemirror_mode": {
    "name": "ipython",
    "version": 3
   },
   "file_extension": ".py",
   "mimetype": "text/x-python",
   "name": "python",
   "nbconvert_exporter": "python",
   "pygments_lexer": "ipython3",
   "version": "3.12.3"
  }
 },
 "nbformat": 4,
 "nbformat_minor": 2
}
