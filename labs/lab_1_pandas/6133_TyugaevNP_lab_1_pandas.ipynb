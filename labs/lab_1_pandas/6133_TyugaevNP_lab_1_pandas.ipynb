{
 "cells": [
  {
   "cell_type": "markdown",
   "metadata": {},
   "source": [
    "# Pandas 6133 Тюгаев Никита Павлович"
   ]
  },
  {
   "cell_type": "markdown",
   "metadata": {},
   "source": [
    "#### 1. Считать в `pandas.DataFrame` любой источник данных: CSV, JSON, Excel-файл, HTML-таблицу и т.п."
   ]
  },
  {
   "cell_type": "code",
   "execution_count": null,
   "metadata": {},
   "outputs": [],
   "source": []
  },
  {
   "cell_type": "markdown",
   "metadata": {},
   "source": [
    "#### 2. Привести описание датасета. "
   ]
  },
  {
   "cell_type": "code",
   "execution_count": null,
   "metadata": {},
   "outputs": [],
   "source": []
  },
  {
   "cell_type": "markdown",
   "metadata": {},
   "source": [
    "#### 3. Выполнить над датафреймом следующие операции:  \n",
    "   - `.head()`.\n",
    "   - `.describe()`.\n",
    "   - Считывание значения конкретной ячейки (с конкретным индексом из конкретной колонки).\n",
    "   - Фильтрация строк по диапазону индекса.\n",
    "   - Фильтрация набора данных по какому-либо условию.\n",
    "   - Работа с пропущенными значениями:\n",
    "      + удаление строк с пропущенными значениями;\n",
    "      + заполнение пропущенных значений средним значением по колонке.  \n",
    "     > Если пропущенных значений нет - намеренно их сгенерировать, прибить какие-то куски данных в `np.nan`.\n",
    "   - Создание нового поля, вычисленного на основе значений других полей:\n",
    "      + через выражение на базе имеющихся колонок;\n",
    "      + через `DataFrame.apply`;\n",
    "      + через `Series.apply`.\n",
    "   - Сортировка по какому-либо из полей.\n",
    "   - Вычисление нескольких статистик по колонкам (использовать встроенные агрегатные функции - любые на выбор).\n",
    "   - Вывод по какому-либо полю / набору полей числа значений с использованием `.value_counts()`.\n",
    "   - Вывод уникальных значений какой-либо колонки с использованием `.unique()`.\n",
    "   - Удаление текущего индекса, и создание нового индекса на базе новой колонки, которая для этого лучше всего подходит - см. \n",
    "[reset_index](https://pandas.pydata.org/docs/reference/api/pandas.DataFrame.reset_index.html) и \n",
    "[set_index](https://pandas.pydata.org/docs/reference/api/pandas.DataFrame.set_index.html)."
   ]
  },
  {
   "cell_type": "markdown",
   "metadata": {},
   "source": [
    "##### `.head()`"
   ]
  },
  {
   "cell_type": "code",
   "execution_count": null,
   "metadata": {},
   "outputs": [],
   "source": []
  },
  {
   "cell_type": "markdown",
   "metadata": {},
   "source": [
    "##### `.describe()`"
   ]
  },
  {
   "cell_type": "code",
   "execution_count": null,
   "metadata": {},
   "outputs": [],
   "source": []
  },
  {
   "cell_type": "markdown",
   "metadata": {},
   "source": [
    "##### Считывание значения конкретной ячейки (с конкретным индексом из конкретной колонки)."
   ]
  },
  {
   "cell_type": "code",
   "execution_count": null,
   "metadata": {},
   "outputs": [],
   "source": []
  },
  {
   "cell_type": "markdown",
   "metadata": {},
   "source": [
    "##### Фильтрация строк по диапазону индекса"
   ]
  },
  {
   "cell_type": "code",
   "execution_count": null,
   "metadata": {},
   "outputs": [],
   "source": []
  },
  {
   "cell_type": "markdown",
   "metadata": {},
   "source": [
    "##### Работа с пропущенными значениями"
   ]
  },
  {
   "cell_type": "markdown",
   "metadata": {},
   "source": [
    "###### Удаление строк с пропущенными значениями"
   ]
  },
  {
   "cell_type": "code",
   "execution_count": null,
   "metadata": {},
   "outputs": [],
   "source": []
  },
  {
   "cell_type": "markdown",
   "metadata": {},
   "source": [
    "###### Заполнение пропущенных значений средним значением по колонке"
   ]
  },
  {
   "cell_type": "code",
   "execution_count": null,
   "metadata": {},
   "outputs": [],
   "source": []
  },
  {
   "cell_type": "markdown",
   "metadata": {},
   "source": [
    "##### Создание нового поля, вычисленного на основе значений других полей:"
   ]
  },
  {
   "cell_type": "markdown",
   "metadata": {},
   "source": [
    "###### через выражение на базе имеющихся колонок"
   ]
  },
  {
   "cell_type": "code",
   "execution_count": null,
   "metadata": {},
   "outputs": [],
   "source": []
  },
  {
   "cell_type": "markdown",
   "metadata": {},
   "source": [
    "###### через `DataFrame.apply`"
   ]
  },
  {
   "cell_type": "code",
   "execution_count": null,
   "metadata": {},
   "outputs": [],
   "source": []
  },
  {
   "cell_type": "markdown",
   "metadata": {},
   "source": [
    "###### через `Series.apply`"
   ]
  },
  {
   "cell_type": "code",
   "execution_count": null,
   "metadata": {},
   "outputs": [],
   "source": []
  },
  {
   "cell_type": "markdown",
   "metadata": {},
   "source": [
    "##### Сортировка по какому-либо из полей"
   ]
  },
  {
   "cell_type": "code",
   "execution_count": null,
   "metadata": {},
   "outputs": [],
   "source": []
  },
  {
   "cell_type": "markdown",
   "metadata": {},
   "source": [
    "##### Вычисление нескольких статистик по колонкам "
   ]
  },
  {
   "cell_type": "code",
   "execution_count": null,
   "metadata": {},
   "outputs": [],
   "source": []
  },
  {
   "cell_type": "markdown",
   "metadata": {},
   "source": [
    "##### Вывод по какому-либо полю / набору полей числа значений с использованием `.value_counts()`"
   ]
  },
  {
   "cell_type": "code",
   "execution_count": null,
   "metadata": {},
   "outputs": [],
   "source": []
  },
  {
   "cell_type": "markdown",
   "metadata": {},
   "source": [
    "##### Вывод уникальных значений какой-либо колонки с использованием `.unique()`"
   ]
  },
  {
   "cell_type": "code",
   "execution_count": null,
   "metadata": {},
   "outputs": [],
   "source": []
  },
  {
   "cell_type": "markdown",
   "metadata": {},
   "source": [
    "##### Удаление текущего индекса, и создание нового индекса на базе новой колонки, которая для этого лучше всего подходит"
   ]
  },
  {
   "cell_type": "code",
   "execution_count": null,
   "metadata": {},
   "outputs": [],
   "source": []
  },
  {
   "cell_type": "markdown",
   "metadata": {},
   "source": [
    "#### 4. Продемонстрировать работу `.groupby`, на основе группировок в `groupby` вычислить агрегатные функции по одной или нескольким колонкам."
   ]
  },
  {
   "cell_type": "code",
   "execution_count": null,
   "metadata": {},
   "outputs": [],
   "source": []
  },
  {
   "cell_type": "markdown",
   "metadata": {},
   "source": [
    "#### 5. Решейпинг данных $1D\\rightarrow2D$ с использованием `.pivot` (можно подать на вход результаты агрегатов, полученных ранее с использованием `.groupby` (сгруппировать по двум полям). "
   ]
  },
  {
   "cell_type": "code",
   "execution_count": null,
   "metadata": {},
   "outputs": [],
   "source": []
  },
  {
   "cell_type": "markdown",
   "metadata": {},
   "source": [
    "#### 6. Решейпинг $1D\\rightarrow2D$ данных, соединённых с группировкой / агрегацией (одним словом - сводная таблица): `.pivot_table`. Группировать только по категориальным полям или числовым, если значений немного."
   ]
  },
  {
   "cell_type": "code",
   "execution_count": null,
   "metadata": {},
   "outputs": [],
   "source": []
  },
  {
   "cell_type": "markdown",
   "metadata": {},
   "source": [
    "#### 7. Вычислить квантили распределения какого-либо вещественного признака (с использованием `numpy.quantile` или `numpy.percentile`).  "
   ]
  },
  {
   "cell_type": "code",
   "execution_count": null,
   "metadata": {},
   "outputs": [],
   "source": []
  },
  {
   "cell_type": "markdown",
   "metadata": {},
   "source": [
    "#### 8. Вычислить (в виде текста) гистограмму какого-либо вещественного признака (с использованием `numpy.histogram`). Значения гистограммы можно использовать в качестве загрубленного числового признака для заданий (5) или (6). "
   ]
  },
  {
   "cell_type": "code",
   "execution_count": null,
   "metadata": {},
   "outputs": [],
   "source": []
  },
  {
   "cell_type": "markdown",
   "metadata": {},
   "source": [
    "#### 9. Проитерировать `DataFrame` построчно `.iterrows()` и выполнить какую-либо операцию внутри цикла. "
   ]
  },
  {
   "cell_type": "code",
   "execution_count": null,
   "metadata": {},
   "outputs": [],
   "source": []
  },
  {
   "cell_type": "markdown",
   "metadata": {},
   "source": [
    "#### 10. Получить `DataFrame` с `MultiIndex` любым способом: через конструктор (в документации есть множество видов конструкторов для создания `MultiIndex` с нуля), через `read_sql` / `read_csv` / `read_excel`, `read_*`, через `pivot_table`, через `groupby` или иными способами.  \n",
    "    - Переставить местами уровни индекса.\n",
    "    - Транспонировать таблицу (или создать новую другую) с `MultiIndex`.\n",
    "    - Удалить один из уровней индекса или добавить новый уровень индекса (можно инициализированный константой) - см. документацию."
   ]
  },
  {
   "cell_type": "markdown",
   "metadata": {},
   "source": [
    "##### Переставить местами уровни индекса"
   ]
  },
  {
   "cell_type": "code",
   "execution_count": null,
   "metadata": {},
   "outputs": [],
   "source": []
  },
  {
   "cell_type": "markdown",
   "metadata": {},
   "source": [
    "##### Транспонировать таблицу (или создать новую другую) с `MultiIndex`"
   ]
  },
  {
   "cell_type": "code",
   "execution_count": null,
   "metadata": {},
   "outputs": [],
   "source": []
  },
  {
   "cell_type": "markdown",
   "metadata": {},
   "source": [
    "##### Удалить один из уровней индекса или добавить новый уровень индекса"
   ]
  },
  {
   "cell_type": "code",
   "execution_count": null,
   "metadata": {},
   "outputs": [],
   "source": []
  },
  {
   "cell_type": "markdown",
   "metadata": {},
   "source": [
    "#### 11. Продемонстировать работу `.merge`."
   ]
  },
  {
   "cell_type": "code",
   "execution_count": null,
   "metadata": {},
   "outputs": [],
   "source": []
  },
  {
   "cell_type": "markdown",
   "metadata": {},
   "source": [
    "#### 12. Продемонстрировать работу с `.concat` или `append`."
   ]
  },
  {
   "cell_type": "code",
   "execution_count": null,
   "metadata": {},
   "outputs": [],
   "source": []
  }
 ],
 "metadata": {
  "kernelspec": {
   "display_name": "Python 3",
   "language": "python",
   "name": "python3"
  },
  "language_info": {
   "codemirror_mode": {
    "name": "ipython",
    "version": 3
   },
   "file_extension": ".py",
   "mimetype": "text/x-python",
   "name": "python",
   "nbconvert_exporter": "python",
   "pygments_lexer": "ipython3",
   "version": "3.12.3"
  }
 },
 "nbformat": 4,
 "nbformat_minor": 2
}
