{
 "cells": [
  {
   "cell_type": "markdown",
   "source": [
    "# Технологии искусственного интеллекта. Семестр 1\n",
    "\n",
    "© Петров М.В., старший преподаватель кафедры суперкомпьютеров и общей информатики, Самарский университет\n",
    "\n",
    "## Лекция 2. Визуализация данных\n",
    "\n",
    "### Содержание\n",
    "\n",
    "1. [Библиотеки](#2.1-Библиотеки)\n",
    "2. [Датасет](#2.2-Датасет)\n",
    "3. [Предобработка данных](#2.3-Предобработка-данных)\n",
    "4. [Интерактивный график в `matplotlib`](#2.4-Интерактивный-график-в-matplotlib)\n",
    "5. [Интерактивный график в `plotly`](#2.5-Интерактивный-график-в-plotly)\n",
    "6. [Построение графиков средствами `pandas`](#2.6-Построение-графиков-средствами-`pandas`)\n",
    "7. [Построение графиков в `seaborn`](#2.7-Построение-графиков-в-seaborn)\n",
    "8. [Построение различных графиков](#2.8-Построение-различных-графиков)\n",
    "9. [Экспорт в растровый и векторный форматы](#2.9-Экспорт-в-растровый-и-векторный-форматы)\n",
    "\n",
    "### 2.1 Библиотеки\n",
    "\n",
    "- [matplotlib](https://matplotlib.org/) - Python-библиотека для визуализации данных.\n",
    "- [seaborn](https://seaborn.pydata.org/index.html) — это библиотека для создания статистических графиков на Python.\n",
    "   Она основывается на `matplotlib` и тесно взаимодействует со структурами данных `pandas`.\n",
    "- [plotly](https://plotly.com/python/) - библиотека для визуализации данных.\n",
    "   - Фреймворк [Dash](https://dash.plotly.com/).\n",
    "\n",
    "Гайды по `matplotlib`:\n",
    "- [Quick start guide](https://matplotlib.org/stable/users/explain/quick_start.html)\n",
    "- [Pyplot tutorial](https://matplotlib.org/stable/tutorials/pyplot.html)\n",
    "- [Examples](https://matplotlib.org/stable/gallery/index.html)\n",
    "- [Interactive Plotting in IPython](https://ipython.readthedocs.io/en/stable/interactive/plotting.html)\n",
    "- [Enable interactive mode - matplotlib.pyplot.ion](https://matplotlib.org/stable/api/_as_gen/matplotlib.pyplot.ion.html)\n",
    "\n",
    "Гайды по `seaborn`:\n",
    "- [Tutorial](https://seaborn.pydata.org/tutorial.html)\n",
    "- [Visualizing categorical data](https://seaborn.pydata.org/tutorial/categorical.html)\n",
    "\n",
    "Гайды по `plotly`:\n",
    "- [Шпаргалка по визуализации данных в Python с помощью Plotly @ Хабр](https://habr.com/ru/articles/502958/)\n",
    "- [Забудьте о matplotlib: визуализация данных в Python вместе с plotly @ proglib](https://proglib.io/p/plotly)\n",
    "\n",
    "Гайды по `pandas`:\n",
    "- [pandas.DataFrame.plot](https://pandas.pydata.org/docs/reference/api/pandas.DataFrame.plot.html)\n",
    "- [Chart visualization](https://pandas.pydata.org/pandas-docs/stable/user_guide/visualization.html)\n",
    "\n",
    "Гайды:\n",
    "- [Открытый курс машинного обучения. Тема 2: Визуализация данных c Python](https://habr.com/ru/company/ods/blog/323210/)"
   ],
   "metadata": {
    "collapsed": false
   }
  },
  {
   "cell_type": "markdown",
   "source": [
    "### 2.2 Датасет\n",
    "\n",
    "[Goodreads Books - 31 Features](https://www.kaggle.com/datasets/austinreese/goodreads-books)\n",
    "\n",
    "| Признак                | Описание                                                                                              |\n",
    "|------------------------|-------------------------------------------------------------------------------------------------------|\n",
    "| id                     | id книги                                                                                              |\n",
    "| title                  | Название книги                                                                                        |\n",
    "| link                   | Ссылка на Goodreads                                                                                   |\n",
    "| series                 | Название цикла, если книга является частью многоциколового произведения                               |\n",
    "| cover_link             | Ссылка на обложку книги                                                                               |\n",
    "| author                 | Список авторов книжного произведения                                                                  |\n",
    "| author_link            | Ссылка на запись об авторах книжного произведения                                                     |\n",
    "| rating_count           | Количество выставленных оценок на книжное произведение                                                |\n",
    "| review_count           | Количество оставленных отзывов на книжное произведение                                                |\n",
    "| average_rating         | Средняя оценка книжного произведения                                                                  |\n",
    "| five_star_ratings      | Количество выставленных оценок на книжное произведение \"5 звезд\"                                      |\n",
    "| four_star_ratings      | Количество выставленных оценок на книжное произведение \"4 звезды\"                                     |\n",
    "| three_star_ratings     | Количество выставленных оценок на книжное произведение \"3 звезды\"                                     |\n",
    "| two_star_ratings       | Количество выставленных оценок на книжное произведение \"2 звезды\"                                     |\n",
    "| one_star_ratings       | Количество выставленных оценок на книжное произведение \"1 звезда\"                                     |\n",
    "| number_of_pages        | Количество страниц в книжном произведении                                                             |\n",
    "| date_published         | Дата выхода книги в печатном издании                                                                  |\n",
    "| publisher              | Название издательства                                                                                 |\n",
    "| original_title         | Исходное название книги                                                                               |\n",
    "| genre_and_votes        | Список указанных пользователями жанров в виде <жанр1 N1>, <жанр2 N2>, где N1, N2 - количество \"меток\" |\n",
    "| isbn                   | ISBN номер книжного произведения                                                                      |\n",
    "| isbn13                 | 13-тизначный ISBN номер книжного произведения                                                         |\n",
    "| asin                   | Amazon Standard Identification Number - артикул на площадке Amazon                                    |\n",
    "| settings               | Место (или несколько), в котором происходят описываемые в книге события                               |\n",
    "| characters             | Имена основных персонажей в книге                                                                     |\n",
    "| awards                 | Список названий присужденных книжному произведению премий (наград)                                    |\n",
    "| amazon_redirect_link   | URL ссылка редиректа на площадку Amazon                                                               |\n",
    "| worldcat_redirect_link | URL ссылка редиректа на Goodread's WorldCat                                                           |\n",
    "| recommended_books      | Список id рекомендуемых книг с Goodread                                                               |\n",
    "| books_in_series        | Список id книг, входящих в одноименный цикл                                                           |\n",
    "| description            | Синопсис                                                                                              |"
   ],
   "metadata": {
    "collapsed": false
   }
  },
  {
   "cell_type": "code",
   "execution_count": null,
   "outputs": [],
   "source": [
    "import pandas as pd\n",
    "import numpy as np\n",
    "from pathlib import Path\n",
    "# путь к папке с данными\n",
    "data_path = \"../lecture_1/data\"\n",
    "# датасет: Goodreads Books - 31 Features: https://www.kaggle.com/datasets/austinreese/goodreads-books\n",
    "df = pd.read_csv(Path(data_path, 'goodreads_books.csv'))\n",
    "df.info()\n",
    "df.head(10)"
   ],
   "metadata": {
    "collapsed": false
   }
  },
  {
   "cell_type": "markdown",
   "source": [
    "### 2.3 Предобработка данных\n",
    "#### Дропаем ненужное"
   ],
   "metadata": {
    "collapsed": false
   }
  },
  {
   "cell_type": "code",
   "execution_count": null,
   "outputs": [],
   "source": [
    "df.drop(columns=['link', 'cover_link', 'author_link', 'original_title', 'isbn', 'isbn13', 'asin', 'amazon_redirect_link', 'worldcat_redirect_link',\n",
    "                 'recommended_books'], inplace=True)\n",
    "df.info()"
   ],
   "metadata": {
    "collapsed": false
   }
  },
  {
   "cell_type": "code",
   "execution_count": null,
   "outputs": [],
   "source": [
    "df.head(10)"
   ],
   "metadata": {
    "collapsed": false
   }
  },
  {
   "cell_type": "markdown",
   "source": [
    "#### Парсим год выхода"
   ],
   "metadata": {
    "collapsed": false
   }
  },
  {
   "cell_type": "markdown",
   "source": [
    "##### Избавимся от NaN"
   ],
   "metadata": {
    "collapsed": false
   }
  },
  {
   "cell_type": "code",
   "execution_count": null,
   "outputs": [],
   "source": [
    "print(f\"{df[df['date_published'].isna()].shape[0]} out of {df['date_published'].shape[0]} is NaN\")"
   ],
   "metadata": {
    "collapsed": false
   }
  },
  {
   "cell_type": "code",
   "execution_count": null,
   "outputs": [],
   "source": [
    "df.drop(df[df['date_published'].isna()].index, inplace=True)\n",
    "df['date_published'].shape[0]"
   ],
   "metadata": {
    "collapsed": false
   }
  },
  {
   "cell_type": "code",
   "execution_count": null,
   "outputs": [],
   "source": [
    "df['date_published'].head(10)"
   ],
   "metadata": {
    "collapsed": false
   }
  },
  {
   "cell_type": "markdown",
   "source": [
    "##### Добавим признак `Год выхода` и спарсим год из даты"
   ],
   "metadata": {
    "collapsed": false
   }
  },
  {
   "cell_type": "code",
   "execution_count": null,
   "outputs": [],
   "source": [
    "# см. https://regex101.com/\n",
    "df['year_published'] = df['date_published'].str.extract(r'(\\d{4})')\n",
    "df.drop(df[df['year_published'].isna()].index, inplace=True)\n",
    "df['year_published'] = df['year_published'].astype(int)\n",
    "# дропаем дату выхода\n",
    "df.drop(columns=['date_published'], inplace=True)\n",
    "df.info()"
   ],
   "metadata": {
    "collapsed": false
   }
  },
  {
   "cell_type": "markdown",
   "source": [
    "#### Удаляем скобки в столбце `series`"
   ],
   "metadata": {
    "collapsed": false
   }
  },
  {
   "cell_type": "code",
   "execution_count": null,
   "outputs": [],
   "source": [
    "df.series.head(10)"
   ],
   "metadata": {
    "collapsed": false
   }
  },
  {
   "cell_type": "code",
   "execution_count": null,
   "outputs": [],
   "source": [
    "df['series'] = df['series'].str.strip('()')\n",
    "df.series.head(10)"
   ],
   "metadata": {
    "collapsed": false
   }
  },
  {
   "cell_type": "code",
   "execution_count": null,
   "outputs": [],
   "source": [
    "df['series'].str.extract(r'( #\\d+ *)')"
   ],
   "metadata": {
    "collapsed": false
   }
  },
  {
   "cell_type": "code",
   "execution_count": null,
   "outputs": [],
   "source": [
    "df['series'].str.replace(r'( #\\d+ *)', '', regex=True)"
   ],
   "metadata": {
    "collapsed": false
   }
  },
  {
   "cell_type": "code",
   "execution_count": null,
   "outputs": [],
   "source": [
    "df['series'] = df['series'].str.replace(r'( #\\d+ *)', '', regex=True)\n",
    "df.series.head(10)"
   ],
   "metadata": {
    "collapsed": false
   }
  },
  {
   "cell_type": "markdown",
   "source": [
    "#### Проанализируем `books_in_series`"
   ],
   "metadata": {
    "collapsed": false
   }
  },
  {
   "cell_type": "code",
   "execution_count": null,
   "outputs": [],
   "source": [
    "df.books_in_series.head(10)"
   ],
   "metadata": {
    "collapsed": false
   }
  },
  {
   "cell_type": "markdown",
   "source": [
    "#### Добавим признак `books_in_series_count` - количество книг в цикле"
   ],
   "metadata": {
    "collapsed": false
   }
  },
  {
   "cell_type": "code",
   "execution_count": null,
   "outputs": [],
   "source": [
    "df['books_in_series_count'] = [len([idx for idx in x.split(',')])\n",
    "                               if pd.notna(x)\n",
    "                               else 0\n",
    "                               for x in df['books_in_series']]\n",
    "df['books_in_series_count'] += 1\n",
    "df['books_in_series_count'].head(10)"
   ],
   "metadata": {
    "collapsed": false
   }
  },
  {
   "cell_type": "code",
   "execution_count": null,
   "outputs": [],
   "source": [
    "df.info()"
   ],
   "metadata": {
    "collapsed": false
   }
  },
  {
   "cell_type": "code",
   "execution_count": null,
   "outputs": [],
   "source": [
    "len(df[df['books_in_series_count'] > 1])"
   ],
   "metadata": {
    "collapsed": false
   }
  },
  {
   "cell_type": "markdown",
   "source": [
    "#### Проанализируем `awards`"
   ],
   "metadata": {
    "collapsed": false
   }
  },
  {
   "cell_type": "code",
   "execution_count": null,
   "outputs": [],
   "source": [
    "df[df.awards.notna()].awards.head(10)"
   ],
   "metadata": {
    "collapsed": false
   }
  },
  {
   "cell_type": "code",
   "execution_count": null,
   "outputs": [],
   "source": [
    "df[df.awards.notna()].awards.str.replace(r' *\\(\\d+\\) *', '', regex=True)"
   ],
   "metadata": {
    "collapsed": false
   }
  },
  {
   "cell_type": "code",
   "execution_count": null,
   "outputs": [],
   "source": [
    "df.awards = df.awards.str.replace(r' *\\(\\d+\\) *', '', regex=True)\n",
    "df[df.awards.notna()].awards.head(10)"
   ],
   "metadata": {
    "collapsed": false
   }
  },
  {
   "cell_type": "markdown",
   "source": [
    "#### Добавим признак `awards_count`"
   ],
   "metadata": {
    "collapsed": false
   }
  },
  {
   "cell_type": "code",
   "execution_count": null,
   "outputs": [],
   "source": [
    "df['awards_count'] = [len([idx for idx in x.split(',')])\n",
    "                      if pd.notna(x)\n",
    "                      else 0\n",
    "                      for x in df['awards']]\n",
    "df[df['awards_count'] > 0]['awards_count'].head(10)"
   ],
   "metadata": {
    "collapsed": false
   }
  },
  {
   "cell_type": "markdown",
   "source": [
    "##### Какая самая титулованная книга?"
   ],
   "metadata": {
    "collapsed": false
   }
  },
  {
   "cell_type": "code",
   "execution_count": null,
   "outputs": [],
   "source": [
    "df.loc[df['awards_count'].idxmax(), ['title', 'awards', 'awards_count']]"
   ],
   "metadata": {
    "collapsed": false
   }
  },
  {
   "cell_type": "markdown",
   "source": [
    "#### Проанализируем признак `author`"
   ],
   "metadata": {
    "collapsed": false
   }
  },
  {
   "cell_type": "code",
   "execution_count": null,
   "outputs": [],
   "source": [
    "df['author'].head(10)"
   ],
   "metadata": {
    "collapsed": false
   }
  },
  {
   "cell_type": "code",
   "execution_count": null,
   "outputs": [],
   "source": [
    "df['author'] = [[idx for idx in x.split(',')] for x in df['author']]\n",
    "df['author'].head(10)"
   ],
   "metadata": {
    "collapsed": false
   }
  },
  {
   "cell_type": "code",
   "execution_count": null,
   "outputs": [],
   "source": [
    "df['author'][0]"
   ],
   "metadata": {
    "collapsed": false
   }
  },
  {
   "cell_type": "markdown",
   "source": [
    "#### Проанализируем признак `genre_and_votes`"
   ],
   "metadata": {
    "collapsed": false
   }
  },
  {
   "cell_type": "code",
   "execution_count": null,
   "outputs": [],
   "source": [
    "df.genre_and_votes"
   ],
   "metadata": {
    "collapsed": false
   }
  },
  {
   "cell_type": "code",
   "execution_count": null,
   "outputs": [],
   "source": [
    "df.genre_and_votes.str.replace(r'( *\\d+ *)', '', regex=True)"
   ],
   "metadata": {
    "collapsed": false
   }
  },
  {
   "cell_type": "code",
   "execution_count": null,
   "outputs": [],
   "source": [
    "df.genre_and_votes.str.replace(r'(, )', ',', regex=True)\n",
    "df.genre_and_votes[0]"
   ],
   "metadata": {
    "collapsed": false
   }
  },
  {
   "cell_type": "code",
   "execution_count": null,
   "outputs": [],
   "source": [
    "df.dropna(subset=['genre_and_votes'], inplace = True)\n",
    "df.genre_and_votes = df.genre_and_votes.str.replace(r'( *\\d+ *)', '', regex=True)\n",
    "df.genre_and_votes = df.genre_and_votes.str.replace(', ', ',')\n",
    "df.genre_and_votes[8]"
   ],
   "metadata": {
    "collapsed": false
   }
  },
  {
   "cell_type": "code",
   "execution_count": null,
   "outputs": [],
   "source": [
    "# American-Southern,Sequential Art-Graphic Novels\n",
    "# genre group regex: ([\\w ]+)(?>-)\n",
    "# subgenre regex: (?<=-)([\\w ]+)"
   ],
   "metadata": {
    "collapsed": false
   }
  },
  {
   "cell_type": "code",
   "execution_count": null,
   "outputs": [],
   "source": [
    "df.genre_and_votes.str.findall(r'(?<=-)([\\w ]+)')"
   ],
   "metadata": {
    "collapsed": false
   }
  },
  {
   "cell_type": "code",
   "execution_count": null,
   "outputs": [],
   "source": [
    "df.genre_and_votes.str.findall(r'([\\w ]+)(?>-)')\n",
    "# см. https://stackoverflow.com/a/74722529"
   ],
   "metadata": {
    "collapsed": false
   }
  },
  {
   "cell_type": "code",
   "execution_count": null,
   "outputs": [],
   "source": [
    "df.genre_and_votes = df.genre_and_votes.str.findall(r'([\\w ]+)')\n",
    "df.genre_and_votes[8]"
   ],
   "metadata": {
    "collapsed": false
   }
  },
  {
   "cell_type": "code",
   "execution_count": null,
   "outputs": [],
   "source": [
    "df.genre_and_votes.apply(lambda x: pd.unique(x))"
   ],
   "metadata": {
    "collapsed": false
   }
  },
  {
   "cell_type": "code",
   "execution_count": null,
   "outputs": [],
   "source": [
    "df.genre_and_votes.apply(lambda x: pd.unique(np.array(x)))"
   ],
   "metadata": {
    "collapsed": false
   }
  },
  {
   "cell_type": "code",
   "execution_count": null,
   "outputs": [],
   "source": [
    "df.genre_and_votes = df.genre_and_votes.apply(lambda x: pd.unique(np.array(x)))\n",
    "df.rename(columns = {'genre_and_votes' : 'genre'}, inplace = True)\n",
    "df.genre"
   ],
   "metadata": {
    "collapsed": false
   }
  },
  {
   "cell_type": "markdown",
   "source": [
    "### 2.4 Интерактивный график в `matplotlib`\n",
    "#### Сгруппируем оценки пользователей по годам выхода книжного издания"
   ],
   "metadata": {
    "collapsed": false
   }
  },
  {
   "cell_type": "code",
   "execution_count": null,
   "outputs": [],
   "source": [
    "df_ratings = df.groupby('year_published') \\\n",
    "    .agg({'rating_count' : 'sum',\n",
    "          'five_star_ratings' : 'sum',\n",
    "          'four_star_ratings': 'sum',\n",
    "          'three_star_ratings': 'sum',\n",
    "          'two_star_ratings': 'sum',\n",
    "          'one_star_ratings': 'sum'}) \\\n",
    "    .reset_index()\n",
    "df_ratings.describe()"
   ],
   "metadata": {
    "collapsed": false
   }
  },
  {
   "cell_type": "markdown",
   "source": [
    "#### Ограничим год выхода 1800+"
   ],
   "metadata": {
    "collapsed": false
   }
  },
  {
   "cell_type": "code",
   "execution_count": null,
   "outputs": [],
   "source": [
    "df_ratings = df_ratings[df_ratings.year_published > 1800]\n",
    "ratings = ['five_star_ratings', 'four_star_ratings',\n",
    "           'three_star_ratings', 'two_star_ratings',\n",
    "           'one_star_ratings']"
   ],
   "metadata": {
    "collapsed": false
   }
  },
  {
   "cell_type": "markdown",
   "source": [
    "#### Количество оценок переведем в %"
   ],
   "metadata": {
    "collapsed": false
   }
  },
  {
   "cell_type": "code",
   "execution_count": null,
   "outputs": [],
   "source": [
    "# show rating categories as a percentage\n",
    "for ratings in ratings:\n",
    "    df_ratings[ratings] = df_ratings[ratings] / df_ratings['rating_count'] * 100\n",
    "df_ratings = df_ratings.reset_index(drop=True)\n",
    "df_ratings.head()"
   ],
   "metadata": {
    "collapsed": false
   }
  },
  {
   "cell_type": "markdown",
   "source": [
    "#### Импорт библиотек"
   ],
   "metadata": {
    "collapsed": false
   }
  },
  {
   "cell_type": "code",
   "execution_count": null,
   "outputs": [],
   "source": [
    "# magic function - см. Interactive Plotting in IPython\n",
    "%matplotlib inline\n",
    "%matplotlib widget\n",
    "from ipywidgets import *\n",
    "import matplotlib as mpl\n",
    "import matplotlib.pyplot as plt\n",
    "# см. https://ipython.readthedocs.io/en/stable/interactive/plotting.html\n",
    "# Starting with IPython 5.0 and matplotlib 2.0 you can avoid the use of IPython’s specific magic\n",
    "# and use matplotlib.pyplot.ion()/matplotlib.pyplot.ioff() which have the advantages of working outside of IPython as well.\n",
    "# plt.ion()"
   ],
   "metadata": {
    "collapsed": false
   }
  },
  {
   "cell_type": "code",
   "execution_count": null,
   "outputs": [],
   "source": [
    "from matplotlib.widgets import Slider, Button\n",
    "\n",
    "fig, ax = plt.subplots(figsize=(13, 7.5))\n",
    "r5 = ax.plot(list(df_ratings.year_published),\n",
    "             list(df_ratings.five_star_ratings), label = '★★★★★')\n",
    "r4 = ax.plot(list(df_ratings.year_published),\n",
    "             list(df_ratings.four_star_ratings), label = '★★★★')\n",
    "r3 = ax.plot(list(df_ratings.year_published),\n",
    "             list(df_ratings.three_star_ratings), label = '★★★')\n",
    "r2 = ax.plot(list(df_ratings.year_published),\n",
    "             list(df_ratings.two_star_ratings), label = '★★')\n",
    "r1 = ax.plot(list(df_ratings.year_published),\n",
    "             list(df_ratings.one_star_ratings), label = '★')\n",
    "plt.xlabel(\"Год выхода\")\n",
    "plt.ylabel(\"% отзывов\")\n",
    "plt.title(\"Средний пользовательский рейтинг\")\n",
    "# plt.legend(loc='right', bbox_to_anchor = (1.3, 0.5))\n",
    "leg = ax.legend(loc ='right', bbox_to_anchor = (1.13, 0.5), fancybox=True, shadow=True)\n",
    "\n",
    "# adjust the main plot to make room for the sliders\n",
    "fig.subplots_adjust(bottom=0.25)\n",
    "\n",
    "ax_year = fig.add_axes([0.20, 0.1, 0.60, 0.03])\n",
    "year_slider = Slider(\n",
    "    ax=ax_year,\n",
    "    label='Год',\n",
    "    valmin=1800,\n",
    "    valmax=2020,\n",
    "    valinit=1800,\n",
    "    valstep = 1,\n",
    ")\n",
    "\n",
    "lines = ax.get_lines()\n",
    "lined = {}  # Will map legend lines to original lines.\n",
    "for legline, origline in zip(leg.get_lines(), lines):\n",
    "    legline.set_picker(7)  # Enable picking on the legend line.\n",
    "    lined[legline] = origline\n",
    "\n",
    "# The function to be called anytime a slider's value changes\n",
    "def update(val):\n",
    "    ax.clear()\n",
    "    year = year_slider.val\n",
    "    df_ratings_year = df_ratings[df_ratings.year_published >= year]\n",
    "    r5 = ax.plot(list(df_ratings_year.year_published),\n",
    "                 list(df_ratings_year.five_star_ratings), label = '★★★★★');\n",
    "    r4 = ax.plot(list(df_ratings_year.year_published),\n",
    "                 list(df_ratings_year.four_star_ratings), label = '★★★★');\n",
    "    r3 = ax.plot(list(df_ratings_year.year_published),\n",
    "                 list(df_ratings_year.three_star_ratings), label = '★★★');\n",
    "    r2 = ax.plot(list(df_ratings_year.year_published),\n",
    "                 list(df_ratings_year.two_star_ratings), label = '★★');\n",
    "    r1 = ax.plot(list(df_ratings_year.year_published),\n",
    "                 list(df_ratings_year.one_star_ratings), label = '★');\n",
    "    leg = ax.legend(loc ='right', bbox_to_anchor = (1.13, 0.5), fancybox=True, shadow=True)\n",
    "    ax.set_xlabel(\"Год выхода\")\n",
    "    ax.set_ylabel(\"% отзывов\")\n",
    "    ax.set_title(\"Средний пользовательский рейтинг\")\n",
    "\n",
    "    lines = ax.get_lines()\n",
    "    for legline, origline in zip(leg.get_lines(), lines):\n",
    "        legline.set_picker(7)  # Enable picking on the legend line.\n",
    "        lined[legline] = origline\n",
    "\n",
    "    fig.canvas.draw_idle()\n",
    "\n",
    "def on_pick(event):\n",
    "    # On the pick event, find the original line corresponding to the legend\n",
    "    # proxy line, and toggle its visibility.\n",
    "    legline = event.artist\n",
    "    origline = lined[legline]\n",
    "    visible = not origline.get_visible()\n",
    "    origline.set_visible(visible)\n",
    "    # Change the alpha on the line in the legend, so we can see what lines\n",
    "    # have been toggled.\n",
    "    legline.set_alpha(1.0 if visible else 0.2)\n",
    "    # year_slider.set_cal(year_slider.val)\n",
    "    fig.canvas.draw()\n",
    "\n",
    "fig.canvas.mpl_connect('pick_event', on_pick)\n",
    "\n",
    "\n",
    "# register the update function with each slider\n",
    "year_slider.on_changed(update)\n",
    "\n",
    "ax_21y = fig.add_axes([0.125, 0.9, 0.025, 0.04])\n",
    "button_21y = Button(ax_21y, '21y', hovercolor='0.975')\n",
    "\n",
    "ax_100y = fig.add_axes([0.155, 0.9, 0.025, 0.04])\n",
    "button_100y = Button(ax_100y, '100y', hovercolor='0.975')\n",
    "\n",
    "ax_ally = fig.add_axes([0.185, 0.9, 0.025, 0.04])\n",
    "button_ally = Button(ax_ally, 'ally', hovercolor='0.975')\n",
    "\n",
    "def clicked_w(year):\n",
    "    def clicked(event):\n",
    "        year_slider.set_val(year)\n",
    "    return clicked\n",
    "\n",
    "button_21y.on_clicked(clicked_w(year=2000))\n",
    "button_100y.on_clicked(clicked_w(year=1920))\n",
    "button_ally.on_clicked(clicked_w(year=1800))\n",
    "\n",
    "resetax = fig.add_axes([0.8, 0.025, 0.1, 0.04])\n",
    "button_reset = Button(resetax, 'Reset', hovercolor='0.975')\n",
    "\n",
    "def reset(event):\n",
    "    year_slider.reset()\n",
    "button_reset.on_clicked(reset)"
   ],
   "metadata": {
    "collapsed": false
   }
  },
  {
   "cell_type": "markdown",
   "source": [
    "### 2.5 Интерактивный график в `plotly`\n",
    "> Для корректного отображения в Jupyter Lab: https://stackoverflow.com/a/56777278"
   ],
   "metadata": {
    "collapsed": false
   }
  },
  {
   "cell_type": "markdown",
   "source": [
    "#### Импорт библиотек"
   ],
   "metadata": {
    "collapsed": false
   }
  },
  {
   "cell_type": "code",
   "execution_count": null,
   "outputs": [],
   "source": [
    "import plotly.express as px\n",
    "from plotly.subplots import make_subplots\n",
    "import plotly.graph_objects as go\n",
    "from plotly.offline import iplot, init_notebook_mode\n",
    "init_notebook_mode(connected=True)\n",
    "# import plotly.io as pio\n",
    "# pio.renderers.default='notebook'"
   ],
   "metadata": {
    "collapsed": false
   }
  },
  {
   "cell_type": "code",
   "execution_count": null,
   "outputs": [],
   "source": [
    "fig_1 = go.Figure()\n",
    "\n",
    "fig_1.add_trace(\n",
    "    go.Scatter(x=list(df_ratings.year_published),\n",
    "               y=list(df_ratings.five_star_ratings), name = '★★★★★'))\n",
    "fig_1.add_trace(\n",
    "    go.Scatter(x=list(df_ratings.year_published),\n",
    "               y=list(df_ratings.four_star_ratings), name = '★★★★'))\n",
    "fig_1.add_trace(\n",
    "    go.Scatter(x=list(df_ratings.year_published),\n",
    "               y=list(df_ratings.three_star_ratings), name = '★★★'))\n",
    "fig_1.add_trace(\n",
    "    go.Scatter(x=list(df_ratings.year_published),\n",
    "               y=list(df_ratings.two_star_ratings),name = '★★'))\n",
    "fig_1.add_trace(\n",
    "    go.Scatter(x=list(df_ratings.year_published),\n",
    "               y=list(df_ratings.one_star_ratings), name = '★'))\n",
    "\n",
    "# Set title\n",
    "fig_1.update_layout(\n",
    "    title_text=\"Средний пользовательский рейтинг\",\n",
    "    title_x=0.5,\n",
    "    legend_title=\"Рейтинг\",\n",
    "    legend = dict(orientation = \"v\", y = .5, x = 1.025)\n",
    ")\n",
    "\n",
    "# Add range slider\n",
    "fig_1.update_layout(\n",
    "    xaxis = dict(\n",
    "        rangeselector = dict(\n",
    "            buttons = list([\n",
    "                dict(count = 21,\n",
    "                     label = \"21y\",\n",
    "                     step = \"year\",\n",
    "                     stepmode = \"backward\"),\n",
    "                dict(count = 100,\n",
    "                     label = \"100y\",\n",
    "                     step = \"year\",\n",
    "                     stepmode = \"backward\"),\n",
    "                dict(step = \"all\")\n",
    "            ])\n",
    "        ),\n",
    "        rangeslider = dict(\n",
    "            visible = True\n",
    "        ),\n",
    "        type = \"date\"\n",
    "    ),\n",
    "    autosize=False,\n",
    "    width=1300,\n",
    "    height=800,\n",
    ")\n",
    "\n",
    "fig_1.show()"
   ],
   "metadata": {
    "collapsed": false
   }
  },
  {
   "cell_type": "markdown",
   "source": [
    "### 2.6 Построение графиков средствами `pandas`\n",
    "#### `hist`"
   ],
   "metadata": {
    "collapsed": false
   }
  },
  {
   "cell_type": "code",
   "execution_count": null,
   "outputs": [],
   "source": [
    "df_ratings.hist(figsize=(15, 7.5));"
   ],
   "metadata": {
    "collapsed": false
   }
  },
  {
   "cell_type": "code",
   "execution_count": null,
   "outputs": [],
   "source": [
    "df_ratings.hist(column='five_star_ratings', bins = 10);"
   ],
   "metadata": {
    "collapsed": false
   }
  },
  {
   "cell_type": "markdown",
   "source": [
    "### 2.7 Построение графиков в `seaborn`\n",
    "#### Импорт библиотеки"
   ],
   "metadata": {
    "collapsed": false
   }
  },
  {
   "cell_type": "code",
   "execution_count": null,
   "outputs": [],
   "source": [
    "import seaborn as sns"
   ],
   "metadata": {
    "collapsed": false
   }
  },
  {
   "cell_type": "markdown",
   "source": [
    "#### `boxplot`"
   ],
   "metadata": {
    "collapsed": false
   }
  },
  {
   "cell_type": "code",
   "execution_count": null,
   "outputs": [],
   "source": [
    "df_ratings['five_star_ratings']"
   ],
   "metadata": {
    "collapsed": false
   }
  },
  {
   "cell_type": "code",
   "execution_count": null,
   "outputs": [],
   "source": [
    "fig_sns, ax_sns = plt.subplots(figsize=(13, 5))\n",
    "sns.boxplot(ax = ax_sns, data=df_ratings['five_star_ratings']);"
   ],
   "metadata": {
    "collapsed": false
   }
  },
  {
   "cell_type": "markdown",
   "source": [
    "> [Getting Error 0 when plotting boxplot of a filtered dataset](https://stackoverflow.com/a/71423584)"
   ],
   "metadata": {
    "collapsed": false
   }
  },
  {
   "cell_type": "code",
   "execution_count": null,
   "outputs": [],
   "source": [
    "# import copy\n",
    "# dff = copy.deepcopy(df_ratings)\n",
    "# dff = dff.reset_index()\n",
    "# sns.boxplot(ax = ax_sns, data = dff['five_star_ratings'].values);"
   ],
   "metadata": {
    "collapsed": false
   }
  },
  {
   "cell_type": "code",
   "execution_count": null,
   "outputs": [],
   "source": [
    "fig_sns, ax_sns = plt.subplots(1, 5, figsize=(13, 5))\n",
    "sns.boxplot(ax=ax_sns[0], data=df_ratings, x='five_star_ratings');\n",
    "sns.boxplot(ax=ax_sns[1], data=df_ratings, x='four_star_ratings');\n",
    "sns.boxplot(ax=ax_sns[2], data=df_ratings, x='three_star_ratings');\n",
    "sns.boxplot(ax=ax_sns[3], data=df_ratings, x='two_star_ratings');\n",
    "sns.boxplot(ax=ax_sns[4], data=df_ratings, x='one_star_ratings');"
   ],
   "metadata": {
    "collapsed": false
   }
  },
  {
   "cell_type": "markdown",
   "source": [
    "#### Ящик с усами\n",
    "[Wiki](https://ru.wikipedia.org/wiki/%D0%AF%D1%89%D0%B8%D0%BA_%D1%81_%D1%83%D1%81%D0%B0%D0%BC%D0%B8)\n",
    "\n",
    "<div align=\"center\">\n",
    "  <img src=\"https://upload.wikimedia.org/wikipedia/commons/1/1a/Boxplot_vs_PDF.svg\" width=\"66%\" title=\"Python logo\"/>\n",
    "</div>"
   ],
   "metadata": {
    "collapsed": false
   }
  },
  {
   "cell_type": "markdown",
   "source": [
    "### 2.8 Построение различных графиков\n",
    "\n",
    "#### Анализ жанров"
   ],
   "metadata": {
    "collapsed": false
   }
  },
  {
   "cell_type": "code",
   "execution_count": null,
   "outputs": [],
   "source": [
    "genres = df['genre'].explode().value_counts().index.tolist()\n",
    "genres[:10]"
   ],
   "metadata": {
    "collapsed": false
   }
  },
  {
   "cell_type": "code",
   "execution_count": null,
   "outputs": [],
   "source": [
    "print(f\"Жанров всего: {len(genres)}\")"
   ],
   "metadata": {
    "collapsed": false
   }
  },
  {
   "cell_type": "code",
   "execution_count": null,
   "outputs": [],
   "source": [
    "auth = df['author'].explode().value_counts().reset_index()\n",
    "auth = auth[:10]\n",
    "gen = df['genre'].explode().value_counts().reset_index()\n",
    "gen = gen[:10]"
   ],
   "metadata": {
    "collapsed": false
   }
  },
  {
   "cell_type": "code",
   "execution_count": null,
   "outputs": [],
   "source": [
    "auth"
   ],
   "metadata": {
    "collapsed": false
   }
  },
  {
   "cell_type": "code",
   "execution_count": null,
   "outputs": [],
   "source": [
    "fig_2 = make_subplots(rows=1, cols=2,\n",
    "                      specs=[[{'type': 'xy'}, {\"type\": \"xy\"}]],\n",
    "                      subplot_titles=(\"Топ 10 самых популярных жанров\",\n",
    "                                      \"Топ 10 самых популярных авторов\"))\n",
    "# Setting Bar parameters\n",
    "fig_2.add_trace(go.Bar(x=gen.index,\n",
    "                       y=gen['count'],\n",
    "                       name ='Books',\n",
    "                       marker_color=px.colors.sequential.Plasma),\n",
    "                       row=1, col=1)\n",
    "# Setting Bar parameters\n",
    "fig_2.add_trace(go.Bar(x=auth.index,\n",
    "                       y=auth['count'],\n",
    "                       name ='Books',\n",
    "                       marker_color=px.colors.sequential.Plotly3),\n",
    "                       row=1, col=2)\n",
    "# Setting the parameters of the chart when displaying\n",
    "fig_2.update_traces(marker_line_width=0)\n",
    "\n",
    "# Setting the parameters of the chart when displaying\n",
    "fig_2.update_layout(showlegend=False,\n",
    "                    plot_bgcolor='rgba(0,0,0,0)',\n",
    "                    font=dict(family='Arial',\n",
    "                              size=12,\n",
    "                              color='black'),\n",
    "                    autosize=False,\n",
    "                    width=1300,\n",
    "                    height=800,)\n",
    "\n",
    "# Displaying the graph\n",
    "fig_2.show()"
   ],
   "metadata": {
    "collapsed": false
   }
  },
  {
   "cell_type": "markdown",
   "source": [
    "#### Введем искусственный признак - тип серии (цикличность)"
   ],
   "metadata": {
    "collapsed": false
   }
  },
  {
   "cell_type": "code",
   "execution_count": null,
   "outputs": [],
   "source": [
    "di = {1: 'Standalone', 2: 'Duology', 3: 'Trilogy'}\n",
    "df['series_type'] = df['books_in_series_count'].map(di).fillna('Saga')\n",
    "df['series_type']"
   ],
   "metadata": {
    "collapsed": false
   }
  },
  {
   "cell_type": "markdown",
   "source": [
    "#### Распределение по типу серии"
   ],
   "metadata": {
    "collapsed": false
   }
  },
  {
   "cell_type": "code",
   "execution_count": null,
   "outputs": [],
   "source": [
    "fig_sns, ax_sns = plt.subplots(figsize=(13, 5))\n",
    "sns.countplot(ax=ax_sns, data=df, x='series_type');"
   ],
   "metadata": {
    "collapsed": false
   }
  },
  {
   "cell_type": "markdown",
   "source": [
    "#### Топ 10 издательств"
   ],
   "metadata": {
    "collapsed": false
   }
  },
  {
   "cell_type": "code",
   "execution_count": null,
   "outputs": [],
   "source": [
    "pubs = df['publisher'].explode().value_counts().index.tolist()\n",
    "pubs[:10]"
   ],
   "metadata": {
    "collapsed": false
   }
  },
  {
   "cell_type": "code",
   "execution_count": null,
   "outputs": [],
   "source": [
    "df['publisher'].value_counts().head(10)"
   ],
   "metadata": {
    "collapsed": false
   }
  },
  {
   "cell_type": "code",
   "execution_count": null,
   "outputs": [],
   "source": [
    "pubs_i = df['publisher'].value_counts().head(10).index\n",
    "pubs_i"
   ],
   "metadata": {
    "collapsed": false
   }
  },
  {
   "cell_type": "code",
   "execution_count": null,
   "outputs": [],
   "source": [
    "df_pubs = df[df['publisher'].isin(pubs_i)]\n",
    "df_pubs.info()"
   ],
   "metadata": {
    "collapsed": false
   }
  },
  {
   "cell_type": "markdown",
   "source": [
    "#### Количество книг в топ 10 издательств"
   ],
   "metadata": {
    "collapsed": false
   }
  },
  {
   "cell_type": "code",
   "execution_count": null,
   "outputs": [],
   "source": [
    "fig_sns, ax_sns = plt.subplots(figsize=(13, 5))\n",
    "sns.countplot(ax=ax_sns, data=df_pubs, x='publisher');"
   ],
   "metadata": {
    "collapsed": false
   }
  },
  {
   "cell_type": "markdown",
   "source": [
    "#### Количество книг в топ 10 издательств по типу серии"
   ],
   "metadata": {
    "collapsed": false
   }
  },
  {
   "cell_type": "code",
   "execution_count": null,
   "outputs": [],
   "source": [
    "fig_sns, ax_sns = plt.subplots(figsize=(13, 5))\n",
    "sns.countplot(ax=ax_sns, data=df_pubs, x='publisher', hue='series_type');"
   ],
   "metadata": {
    "collapsed": false
   }
  },
  {
   "cell_type": "markdown",
   "source": [
    "#### Топ 10 издательств по количеству оценок в определенном жанре"
   ],
   "metadata": {
    "collapsed": false
   }
  },
  {
   "cell_type": "code",
   "execution_count": null,
   "outputs": [],
   "source": [
    "df_grouped_by_pub = df.groupby('publisher') \\\n",
    "    .agg({'title':'count',\n",
    "          'average_rating':'mean',\n",
    "          'rating_count': 'sum'}) \\\n",
    "    .reset_index()"
   ],
   "metadata": {
    "collapsed": false
   }
  },
  {
   "cell_type": "code",
   "execution_count": null,
   "outputs": [],
   "source": [
    "df_pub_popular = df_grouped_by_pub.sort_values(by=['rating_count'], ascending=False)[:10]\n",
    "df_pub_popular"
   ],
   "metadata": {
    "collapsed": false
   }
  },
  {
   "cell_type": "code",
   "execution_count": null,
   "outputs": [],
   "source": [
    "def barplot_by_genre(genre):\n",
    "    mask = [genre in x for x in df['genre']]\n",
    "    newframe = df[mask]\n",
    "    df_grouped_by_pub = newframe.groupby('publisher') \\\n",
    "       .agg({'title':'count', 'average_rating':'mean', 'rating_count': 'sum'}) \\\n",
    "       .reset_index()\n",
    "    df_popular = df_grouped_by_pub.sort_values(by=['rating_count'], ascending=False)[:10]\n",
    "    barplot = px.bar(data_frame = df_popular,\n",
    "                     x = 'publisher',\n",
    "                     y = 'rating_count',\n",
    "                     labels = {'publisher': 'Издательство', 'rating_count': 'Количество оценок', 'average_rating': 'Рейтинг'},\n",
    "                     color = 'average_rating',\n",
    "                     opacity = 0.9,\n",
    "                     orientation = 'v',\n",
    "                     barmode = 'relative',\n",
    "                     title = f\"Топ 10 издательств по количеству оценок в жанре \\\"{genre}\\\"\",\n",
    "                    )\n",
    "    barplot.layout.update(autosize=False,\n",
    "                          width=1300,\n",
    "                          height=800,\n",
    "                          title_x = 0.5)\n",
    "    barplot\n",
    "    barplot.show()"
   ],
   "metadata": {
    "collapsed": false
   }
  },
  {
   "cell_type": "code",
   "execution_count": null,
   "outputs": [],
   "source": [
    "interact(barplot_by_genre, genre=genres, df = fixed(df));"
   ],
   "metadata": {
    "collapsed": false
   }
  },
  {
   "cell_type": "code",
   "execution_count": null,
   "outputs": [],
   "source": [
    "feat = [f for f in df.columns if 'star' in f]\n",
    "df_ratings[feat].hist();"
   ],
   "metadata": {
    "collapsed": false
   }
  },
  {
   "cell_type": "code",
   "execution_count": null,
   "outputs": [],
   "source": [
    "sns.pairplot(height=2.5, data=df_ratings[feat]);"
   ],
   "metadata": {
    "collapsed": false
   }
  },
  {
   "cell_type": "markdown",
   "source": [
    "#### Связь рейтинга книги с количеством страниц и количеством сиквелов"
   ],
   "metadata": {
    "collapsed": false
   }
  },
  {
   "cell_type": "code",
   "execution_count": null,
   "outputs": [],
   "source": [
    "series_type_anno = [('Любая', 'All'), ('Отдельная', 'Standalone'),\n",
    "                    ('Дилогия', 'Duology'), ('Трилогия', 'Trilogy'),\n",
    "                    ('Цикл', 'Saga')]\n",
    "series_type_dict = dict()\n",
    "for t in series_type_anno:\n",
    "    series_type_dict[t[1]] = t[0]\n",
    "\n",
    "toggle = widgets.ToggleButtons(options=series_type_anno,\n",
    "                               description='Цикличность:',\n",
    "                               disabled=False,\n",
    "                               button_style='',\n",
    "                               tooltips=['Любое количество книг',\n",
    "                                        'Отдельная книга',\n",
    "                                        'Две книги в цикле',\n",
    "                                        'Три книги в цикле',\n",
    "                                        'Больше книг богу книг']\n",
    "                                )\n",
    "def making_pages(df, toggle, label):\n",
    "    df_pages = df[df['number_of_pages'] <= 1500].copy()\n",
    "    if not toggle == 'All':\n",
    "        mask = [toggle in x for x in df_pages['series_type']]\n",
    "        colour = 'rating_count'\n",
    "    else:\n",
    "        mask = [True for x in df_pages['series_type']]\n",
    "        colour = 'series_type'\n",
    "    title = f\"Зависимость рейтинга от количества страниц для цикличности \\\"{label}\\\"\"\n",
    "    fig = px.scatter(df_pages[mask],\n",
    "                     x=\"number_of_pages\",\n",
    "                     y=\"rating_count\",\n",
    "                     labels = {\"number_of_pages\": 'Количество страниц', \"rating_count\": 'Количество оценок',\n",
    "                               \"review_count\": 'Количество рецензий', \"series_type\": 'Цикличность'},\n",
    "                     size='review_count',\n",
    "                     color=\"review_count\",\n",
    "                     hover_data=['title', 'author'],\n",
    "                     facet_col=\"series_type\",\n",
    "                     title = title\n",
    "                    )\n",
    "    # Меняем названия subplot'ов\n",
    "    fig.for_each_annotation(lambda a: a.update(text = series_type_dict[a.text.split('=')[1]]))\n",
    "    # Меняем названия рядов в легенде\n",
    "    # fig.for_each_trace(lambda t: t.update(name = series_type_dict[t.name],\n",
    "    #                                       legendgroup = series_type_dict[t.name],\n",
    "    #                                       hovertemplate = t.hovertemplate.replace(t.name, series_type_dict[t.name.split('=')[1]])\n",
    "    #                                      ) if t.name != '' else '')\n",
    "\n",
    "    fig.layout.update(autosize=False,\n",
    "                      width=1300,\n",
    "                      height=400,\n",
    "                      title_x = 0.5)\n",
    "    fig.show()\n",
    "\n",
    "    df_scat = df_pages[mask].groupby(['year_published', 'series_type']) \\\n",
    "        .agg({'average_rating' : 'mean',\n",
    "              'rating_count' : 'sum',\n",
    "              'review_count' : 'sum'}) \\\n",
    "        .reset_index()\n",
    "    df_scat = df_scat[df_scat.year_published > 1950]\n",
    "    title = f\"Средняя оценка для цикличности \\\"{label}\\\" c 1950 по 2021 гг.\"\n",
    "    fig = px.scatter(df_scat,\n",
    "                     y=\"average_rating\",\n",
    "                     x=\"year_published\",\n",
    "                     labels = {\"average_rating\": 'Средняя оценка', \"year_published\": 'Год выхода', \"series_type\": 'Цикличность', \"rating_count\": 'Количество оценок'},\n",
    "                     log_x=True,\n",
    "                     log_y=True,\n",
    "                     color=colour,\n",
    "                     size=\"rating_count\",\n",
    "                     title = title)\n",
    "    fig.layout.update(autosize=False,\n",
    "                      width=1300,\n",
    "                      height=400,\n",
    "                      title_x = 0.5)\n",
    "    fig.show()"
   ],
   "metadata": {
    "collapsed": false
   }
  },
  {
   "cell_type": "code",
   "execution_count": null,
   "outputs": [],
   "source": [
    "interact(making_pages, toggle = toggle, label = toggle.label, df=fixed(df));"
   ],
   "metadata": {
    "collapsed": false,
    "pycharm": {
     "is_executing": true
    }
   }
  },
  {
   "cell_type": "code",
   "execution_count": null,
   "outputs": [],
   "source": [
    "df.corr()"
   ],
   "metadata": {
    "collapsed": false
   }
  },
  {
   "cell_type": "code",
   "execution_count": null,
   "outputs": [],
   "source": [
    "# since pandas version 2.0.0 now you need to add numeric_only=True param to avoid the issue\n",
    "# https://stackoverflow.com/a/76717659\n",
    "df.corr(numeric_only=True)"
   ],
   "metadata": {
    "collapsed": false
   }
  },
  {
   "cell_type": "code",
   "execution_count": null,
   "outputs": [],
   "source": [
    "fig_sns, ax_sns = plt.subplots(figsize=(9, 8))\n",
    "sns.heatmap(ax = ax_sns, data = df[df.columns[~df.columns.isin(['id'])]].corr(numeric_only=True));\n",
    "for item in ax_sns.get_xticklabels():\n",
    "    item.set_rotation(25)\n",
    "for item in ax_sns.get_yticklabels():\n",
    "    item.set_rotation(30)"
   ],
   "metadata": {
    "collapsed": false
   }
  },
  {
   "cell_type": "code",
   "execution_count": null,
   "outputs": [],
   "source": [
    "fig_sns, ax_sns = plt.subplots(2, 1, figsize=(13, 12))\n",
    "sns.violinplot(ax = ax_sns[0], data = df_pubs, x = 'publisher', y = 'average_rating');\n",
    "sns.boxplot(ax = ax_sns[1], data = df_pubs, x = 'publisher', y = 'average_rating');"
   ],
   "metadata": {
    "collapsed": false
   }
  },
  {
   "cell_type": "markdown",
   "source": [
    "#### QQ-график\n",
    "Графики Q-Q (квантиль-квантиль) сравнивают два распределения вероятностей путем построения совместных квантилей. График Q-Q используется для сравнения форм распределений, обеспечивая графическое представление того, насколько подобны или различны положение, масштаб и асимметрия двух распределений.\n",
    "\n",
    "С помощью него определяем насколько числовой признак похож на нормальное распределение. Поскольку целый ряд методов статистики предполагают, что распределение признака нормальное. QQ-график — один из способов проверить нормальность распределения."
   ],
   "metadata": {
    "collapsed": false
   }
  },
  {
   "cell_type": "code",
   "execution_count": null,
   "outputs": [],
   "source": [
    "from scipy import stats\n",
    "\n",
    "fig_p, ax_p = plt.subplots(2, 1, figsize=(13, 12))\n",
    "stats.probplot( df['average_rating'], dist=\"norm\", plot=plt)\n",
    "plt.subplot(2,1,2)\n",
    "df.hist(ax = ax_p[0], column = 'average_rating', bins = 30 )\n",
    "plt.show()"
   ],
   "metadata": {
    "collapsed": false
   }
  },
  {
   "cell_type": "code",
   "execution_count": null,
   "outputs": [],
   "source": [
    "from scipy import stats\n",
    "\n",
    "fig_p, ax_p = plt.subplots(2, 1, figsize=(15, 12))\n",
    "stats.probplot( df['average_rating'], dist=stats.expon, plot=plt)\n",
    "plt.subplot(2,1,2)\n",
    "df.hist(ax = ax_p[0], column = 'average_rating', bins = 30 )\n",
    "plt.show()"
   ],
   "metadata": {
    "collapsed": false
   }
  },
  {
   "cell_type": "markdown",
   "source": [
    "### 2.9 Экспорт в растровый и векторный форматы\n",
    "DPI - dots per inch - разрешение нашего рисунка, количество точек на дюйм. Пришло из полиграфии. \"Физический\" размер рисунка может оставаться таким же, а изменение `dpi` приведет к изменению размера рисунка на бумаге или в документе. 300 dpi достаточно для печати. Соответственно, комбинация `figsize=(w, h)` и `dpi=n` задает искомый размер (в документе размер рисунка можно поправить, и визуально качество не ухудшится, а вот на печати это скажется при апскейле) и разрешение (для печати и отображения).\n",
    "Рисунки, содержащие графики, желательно экспортировать в векторный формат, чтобы не страдало качество печати."
   ],
   "metadata": {
    "collapsed": false
   }
  },
  {
   "cell_type": "markdown",
   "source": [
    "#### matplotlib"
   ],
   "metadata": {
    "collapsed": false
   }
  },
  {
   "cell_type": "code",
   "execution_count": null,
   "outputs": [],
   "source": [
    "# Сохранение в растровый формат, matplotlib\n",
    "fig.savefig(Path(data_path, 'ratings_by_year_300.png'), dpi=300)\n",
    "fig.savefig(Path(data_path, 'ratings_by_year_600.png'), dpi=600)"
   ],
   "metadata": {
    "collapsed": false
   }
  },
  {
   "cell_type": "code",
   "execution_count": null,
   "outputs": [],
   "source": [
    "# Сохранение в векторный формат, matplotlib\n",
    "fig.savefig(Path(data_path, 'ratings_by_year.svg'), dpi=300)"
   ],
   "metadata": {
    "collapsed": false
   }
  },
  {
   "cell_type": "markdown",
   "source": [
    "#### plotly\n",
    "В `plotly` нет явного параметра `dpi`, есть только размер в пикселах и параметр `scale`.\n",
    "Необходимо установить `kaleido`. Однако, последняя версия не работает, см. [Not able to save plotly plots using to_image or write_image](https://stackoverflow.com/questions/70997997/not-able-to-save-plotly-plots-using-to-image-or-write-image).\n",
    "```bash\n",
    "pip install kaleido==0.1.0post1\n",
    "```"
   ],
   "metadata": {
    "collapsed": false
   }
  },
  {
   "cell_type": "code",
   "execution_count": null,
   "outputs": [],
   "source": [
    "# Сохранение в растровый формат, plotly\n",
    "import plotly\n",
    "plotly.io.kaleido.scope.mathjax=None\n",
    "fig_2.write_image(Path(data_path, 'top10_authors_and_genres.png'), format='png',engine='kaleido')"
   ],
   "metadata": {
    "collapsed": false
   }
  },
  {
   "cell_type": "code",
   "execution_count": null,
   "outputs": [],
   "source": [
    "# Сохранение в векторный формат, plotly\n",
    "fig_2.write_image(Path(data_path, 'top10_authors_and_genres.svg'))"
   ],
   "metadata": {
    "collapsed": false
   }
  }
 ],
 "metadata": {
  "kernelspec": {
   "display_name": "Python 3",
   "language": "python",
   "name": "python3"
  },
  "language_info": {
   "codemirror_mode": {
    "name": "ipython",
    "version": 2
   },
   "file_extension": ".py",
   "mimetype": "text/x-python",
   "name": "python",
   "nbconvert_exporter": "python",
   "pygments_lexer": "ipython2",
   "version": "2.7.6"
  }
 },
 "nbformat": 4,
 "nbformat_minor": 0
}
